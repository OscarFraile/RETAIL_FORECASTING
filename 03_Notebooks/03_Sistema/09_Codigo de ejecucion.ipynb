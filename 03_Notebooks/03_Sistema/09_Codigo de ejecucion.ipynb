{
 "cells": [
  {
   "cell_type": "code",
   "execution_count": null,
   "id": "450a12ee",
   "metadata": {},
   "outputs": [],
   "source": [
    "'''\n",
    "PASOS PARA GENERAR EL 09_Codigo de ejecucion.py:\n",
    "    * Cargar el paquete para evitar warnings y las funciones auxiliares\n",
    "    * Copiar y pegar el proceso de ejecucion sin los paquetes porque están incluidas en las funciones auxiliares\n",
    "    * Descargar como .py: file > Download as > Python (.py)\n",
    "    \n",
    "Esta celda donde estoy escribiendo no es necesaria y hay que borrarla para generar el archivo .py o borrar las líneas del \n",
    "propio archivo .py de manera manual\n",
    "\n",
    "Hay que generar un archivo al que llamaremos para importar las funciones auxiliares que llamaremos 'FuncionesAuxiliares.py'\n",
    "\n",
    "Fundamental que el 08_Codigo de ejecucion.py y FuncionesAuxiliares.py estén en la misma carpeta para que funcione todo\n",
    "'''"
   ]
  },
  {
   "cell_type": "code",
   "execution_count": 1,
   "id": "b7550927",
   "metadata": {},
   "outputs": [],
   "source": [
    "import warnings\n",
    "warnings.filterwarnings(\"ignore\")\n",
    "\n",
    "#Cargar las funciones auxiliares\n",
    "from FuncionesAuxiliares import *\n",
    "\n",
    "#Cargar los datos\n",
    "ruta_proyecto = 'C:/Users/Oscar/OneDrive - FM4/Escritorio/Python Data Mastery/EstructuraDirectorio/03_MACHINE_LEARNING/08_CASOS/002_RETAIL'\n",
    "nombre_fichero_datos = 'DatosParaProduccion.csv'\n",
    "ruta_completa = ruta_proyecto + '/02_Datos/02_Validacion/' + nombre_fichero_datos\n",
    "df = pd.read_csv(ruta_completa,sep=';',parse_dates=['date'],index_col='date')\n",
    "\n",
    "#Seleccionar solo las que se han usado\n",
    "variables_finales = ['store_id',\n",
    "                     'item_id',\n",
    "                     'event_name_1',                     \n",
    "                     'month',\n",
    "                     'sell_price',                      \n",
    "                     'wday',\n",
    "                     'weekday',\n",
    "                     'ventas']\n",
    "\n",
    "df = df[variables_finales]\n",
    "\n",
    "#Lanzar la predicción\n",
    "forecast = forecast_recursivo(df).sort_values(by = ['store_id','item_id'])"
   ]
  }
 ],
 "metadata": {
  "kernelspec": {
   "display_name": "Python 3 (ipykernel)",
   "language": "python",
   "name": "python3"
  },
  "language_info": {
   "codemirror_mode": {
    "name": "ipython",
    "version": 3
   },
   "file_extension": ".py",
   "mimetype": "text/x-python",
   "name": "python",
   "nbconvert_exporter": "python",
   "pygments_lexer": "ipython3",
   "version": "3.11.11"
  },
  "toc": {
   "base_numbering": 1,
   "nav_menu": {},
   "number_sections": true,
   "sideBar": true,
   "skip_h1_title": false,
   "title_cell": "Table of Contents",
   "title_sidebar": "Contents",
   "toc_cell": false,
   "toc_position": {},
   "toc_section_display": true,
   "toc_window_display": false
  },
  "varInspector": {
   "cols": {
    "lenName": 16,
    "lenType": 16,
    "lenVar": 40
   },
   "kernels_config": {
    "python": {
     "delete_cmd_postfix": "",
     "delete_cmd_prefix": "del ",
     "library": "var_list.py",
     "varRefreshCmd": "print(var_dic_list())"
    },
    "r": {
     "delete_cmd_postfix": ") ",
     "delete_cmd_prefix": "rm(",
     "library": "var_list.r",
     "varRefreshCmd": "cat(var_dic_list()) "
    }
   },
   "types_to_exclude": [
    "module",
    "function",
    "builtin_function_or_method",
    "instance",
    "_Feature"
   ],
   "window_display": false
  }
 },
 "nbformat": 4,
 "nbformat_minor": 5
}
